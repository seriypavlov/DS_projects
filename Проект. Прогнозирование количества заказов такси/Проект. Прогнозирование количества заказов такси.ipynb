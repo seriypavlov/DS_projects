{
 "cells": [
  {
   "cell_type": "markdown",
   "metadata": {},
   "source": [
    "# Проект. Прогнозирование количества заказов такси\n",
    "## Глава 0. Входные данные\n",
    "\n",
    "Компания «Чётенькое такси» собрала исторические данные о заказах такси в аэропортах. Чтобы привлекать больше водителей в период пиковой нагрузки, нужно спрогнозировать количество заказов такси на следующий час. Построить модель для такого предсказания.\n",
    "\n",
    "Значение метрики *RMSE* на тестовой выборке должно быть не больше 48.\n",
    "\n",
    "#### Путь к файлу:\n",
    "- /datasets/taxi.csv\n",
    "\n",
    "### Инструкция по выполнению проекта\n",
    "\n",
    "1. Загрузите данные и выполните их ресемплирование по одному часу.\n",
    "2. Проанализируйте данные.\n",
    "3. Обучите разные модели с различными гиперпараметрами. Сделайте тестовую выборку размером 10% от исходных данных.\n",
    "4. Проверьте данные на тестовой выборке и сделайте выводы.\n",
    "\n",
    "### Описание данных\n",
    "\n",
    "Данные лежат в файле `taxi.csv`. Количество заказов находится в столбце '*num_orders*' (от англ. *number of orders*, «число заказов»)."
   ]
  },
  {
   "cell_type": "markdown",
   "metadata": {},
   "source": [
    "## Глава 1. Загрузка и подготовка данных"
   ]
  },
  {
   "cell_type": "markdown",
   "metadata": {},
   "source": [
    "Вызовем библиотеки, необходимые для реализации проекта:"
   ]
  },
  {
   "cell_type": "code",
   "execution_count": 1,
   "metadata": {},
   "outputs": [],
   "source": [
    "import pandas as pd\n",
    "import numpy as np\n",
    "import matplotlib.pyplot as plt\n",
    "from statsmodels.tsa.seasonal import seasonal_decompose\n",
    "from sklearn.model_selection import train_test_split\n",
    "from sklearn.preprocessing import StandardScaler\n",
    "from sklearn.metrics import mean_squared_error\n",
    "import warnings\n",
    "warnings.filterwarnings('ignore')"
   ]
  },
  {
   "cell_type": "markdown",
   "metadata": {},
   "source": [
    "Прочитаем файл, создадим ДатаФрейм, выведем таблицу. Столбец `datetime` приведем к формату даты и переведем в индекс через `index_col`, `parse_dates`:"
   ]
  },
  {
   "cell_type": "code",
   "execution_count": 2,
   "metadata": {},
   "outputs": [
    {
     "data": {
      "text/html": [
       "<div>\n",
       "<style scoped>\n",
       "    .dataframe tbody tr th:only-of-type {\n",
       "        vertical-align: middle;\n",
       "    }\n",
       "\n",
       "    .dataframe tbody tr th {\n",
       "        vertical-align: top;\n",
       "    }\n",
       "\n",
       "    .dataframe thead th {\n",
       "        text-align: right;\n",
       "    }\n",
       "</style>\n",
       "<table border=\"1\" class=\"dataframe\">\n",
       "  <thead>\n",
       "    <tr style=\"text-align: right;\">\n",
       "      <th></th>\n",
       "      <th>num_orders</th>\n",
       "    </tr>\n",
       "    <tr>\n",
       "      <th>datetime</th>\n",
       "      <th></th>\n",
       "    </tr>\n",
       "  </thead>\n",
       "  <tbody>\n",
       "    <tr>\n",
       "      <td>2018-03-01 00:00:00</td>\n",
       "      <td>9</td>\n",
       "    </tr>\n",
       "    <tr>\n",
       "      <td>2018-03-01 00:10:00</td>\n",
       "      <td>14</td>\n",
       "    </tr>\n",
       "    <tr>\n",
       "      <td>2018-03-01 00:20:00</td>\n",
       "      <td>28</td>\n",
       "    </tr>\n",
       "    <tr>\n",
       "      <td>2018-03-01 00:30:00</td>\n",
       "      <td>20</td>\n",
       "    </tr>\n",
       "    <tr>\n",
       "      <td>2018-03-01 00:40:00</td>\n",
       "      <td>32</td>\n",
       "    </tr>\n",
       "    <tr>\n",
       "      <td>...</td>\n",
       "      <td>...</td>\n",
       "    </tr>\n",
       "    <tr>\n",
       "      <td>2018-08-31 23:10:00</td>\n",
       "      <td>32</td>\n",
       "    </tr>\n",
       "    <tr>\n",
       "      <td>2018-08-31 23:20:00</td>\n",
       "      <td>24</td>\n",
       "    </tr>\n",
       "    <tr>\n",
       "      <td>2018-08-31 23:30:00</td>\n",
       "      <td>27</td>\n",
       "    </tr>\n",
       "    <tr>\n",
       "      <td>2018-08-31 23:40:00</td>\n",
       "      <td>39</td>\n",
       "    </tr>\n",
       "    <tr>\n",
       "      <td>2018-08-31 23:50:00</td>\n",
       "      <td>53</td>\n",
       "    </tr>\n",
       "  </tbody>\n",
       "</table>\n",
       "<p>26496 rows × 1 columns</p>\n",
       "</div>"
      ],
      "text/plain": [
       "                     num_orders\n",
       "datetime                       \n",
       "2018-03-01 00:00:00           9\n",
       "2018-03-01 00:10:00          14\n",
       "2018-03-01 00:20:00          28\n",
       "2018-03-01 00:30:00          20\n",
       "2018-03-01 00:40:00          32\n",
       "...                         ...\n",
       "2018-08-31 23:10:00          32\n",
       "2018-08-31 23:20:00          24\n",
       "2018-08-31 23:30:00          27\n",
       "2018-08-31 23:40:00          39\n",
       "2018-08-31 23:50:00          53\n",
       "\n",
       "[26496 rows x 1 columns]"
      ]
     },
     "execution_count": 2,
     "metadata": {},
     "output_type": "execute_result"
    }
   ],
   "source": [
    "df = pd.read_csv('/datasets/taxi.csv', index_col=[0], parse_dates=[0])\n",
    "df"
   ]
  },
  {
   "cell_type": "markdown",
   "metadata": {},
   "source": [
    "Выведем информацию о таблице через метод `.info()`:"
   ]
  },
  {
   "cell_type": "code",
   "execution_count": 3,
   "metadata": {},
   "outputs": [
    {
     "name": "stdout",
     "output_type": "stream",
     "text": [
      "<class 'pandas.core.frame.DataFrame'>\n",
      "DatetimeIndex: 26496 entries, 2018-03-01 00:00:00 to 2018-08-31 23:50:00\n",
      "Data columns (total 1 columns):\n",
      "num_orders    26496 non-null int64\n",
      "dtypes: int64(1)\n",
      "memory usage: 414.0 KB\n"
     ]
    }
   ],
   "source": [
    "df.info()"
   ]
  },
  {
   "cell_type": "markdown",
   "metadata": {},
   "source": [
    "Отсортируем индексы по возрастанию даты:"
   ]
  },
  {
   "cell_type": "code",
   "execution_count": 4,
   "metadata": {},
   "outputs": [],
   "source": [
    "df.sort_index(inplace=True)"
   ]
  },
  {
   "cell_type": "markdown",
   "metadata": {},
   "source": [
    "Проверим, в хронологическом ли порядке расположены даты и время, посмотрим атрибут индекса таблицы `is_monotonic`:"
   ]
  },
  {
   "cell_type": "code",
   "execution_count": 5,
   "metadata": {},
   "outputs": [
    {
     "data": {
      "text/plain": [
       "True"
      ]
     },
     "execution_count": 5,
     "metadata": {},
     "output_type": "execute_result"
    }
   ],
   "source": [
    "df.index.is_monotonic"
   ]
  },
  {
   "cell_type": "markdown",
   "metadata": {},
   "source": [
    "Построим график временного ряда"
   ]
  },
  {
   "cell_type": "code",
   "execution_count": 6,
   "metadata": {},
   "outputs": [
    {
     "data": {
      "image/png": "[encoded data removed]",
      "text/plain": [
       "<Figure size 864x360 with 1 Axes>"
      ]
     },
     "metadata": {
      "needs_background": "light"
     },
     "output_type": "display_data"
    }
   ],
   "source": [
    "df.plot(figsize=(12,5));"
   ]
  },
  {
   "cell_type": "markdown",
   "metadata": {},
   "source": [
    "Проведем Ресемплирование - изменение временного ряда на часовой и вычислим агрегированное значение ряда по `.sum()`:"
   ]
  },
  {
   "cell_type": "code",
   "execution_count": 7,
   "metadata": {},
   "outputs": [
    {
     "data": {
      "text/html": [
       "<div>\n",
       "<style scoped>\n",
       "    .dataframe tbody tr th:only-of-type {\n",
       "        vertical-align: middle;\n",
       "    }\n",
       "\n",
       "    .dataframe tbody tr th {\n",
       "        vertical-align: top;\n",
       "    }\n",
       "\n",
       "    .dataframe thead th {\n",
       "        text-align: right;\n",
       "    }\n",
       "</style>\n",
       "<table border=\"1\" class=\"dataframe\">\n",
       "  <thead>\n",
       "    <tr style=\"text-align: right;\">\n",
       "      <th></th>\n",
       "      <th>num_orders</th>\n",
       "    </tr>\n",
       "    <tr>\n",
       "      <th>datetime</th>\n",
       "      <th></th>\n",
       "    </tr>\n",
       "  </thead>\n",
       "  <tbody>\n",
       "    <tr>\n",
       "      <td>2018-03-01 00:00:00</td>\n",
       "      <td>124</td>\n",
       "    </tr>\n",
       "    <tr>\n",
       "      <td>2018-03-01 01:00:00</td>\n",
       "      <td>85</td>\n",
       "    </tr>\n",
       "    <tr>\n",
       "      <td>2018-03-01 02:00:00</td>\n",
       "      <td>71</td>\n",
       "    </tr>\n",
       "    <tr>\n",
       "      <td>2018-03-01 03:00:00</td>\n",
       "      <td>66</td>\n",
       "    </tr>\n",
       "    <tr>\n",
       "      <td>2018-03-01 04:00:00</td>\n",
       "      <td>43</td>\n",
       "    </tr>\n",
       "    <tr>\n",
       "      <td>...</td>\n",
       "      <td>...</td>\n",
       "    </tr>\n",
       "    <tr>\n",
       "      <td>2018-08-31 19:00:00</td>\n",
       "      <td>136</td>\n",
       "    </tr>\n",
       "    <tr>\n",
       "      <td>2018-08-31 20:00:00</td>\n",
       "      <td>154</td>\n",
       "    </tr>\n",
       "    <tr>\n",
       "      <td>2018-08-31 21:00:00</td>\n",
       "      <td>159</td>\n",
       "    </tr>\n",
       "    <tr>\n",
       "      <td>2018-08-31 22:00:00</td>\n",
       "      <td>223</td>\n",
       "    </tr>\n",
       "    <tr>\n",
       "      <td>2018-08-31 23:00:00</td>\n",
       "      <td>205</td>\n",
       "    </tr>\n",
       "  </tbody>\n",
       "</table>\n",
       "<p>4416 rows × 1 columns</p>\n",
       "</div>"
      ],
      "text/plain": [
       "                     num_orders\n",
       "datetime                       \n",
       "2018-03-01 00:00:00         124\n",
       "2018-03-01 01:00:00          85\n",
       "2018-03-01 02:00:00          71\n",
       "2018-03-01 03:00:00          66\n",
       "2018-03-01 04:00:00          43\n",
       "...                         ...\n",
       "2018-08-31 19:00:00         136\n",
       "2018-08-31 20:00:00         154\n",
       "2018-08-31 21:00:00         159\n",
       "2018-08-31 22:00:00         223\n",
       "2018-08-31 23:00:00         205\n",
       "\n",
       "[4416 rows x 1 columns]"
      ]
     },
     "execution_count": 7,
     "metadata": {},
     "output_type": "execute_result"
    }
   ],
   "source": [
    "df = df.resample('1H').sum()\n",
    "df"
   ]
  },
  {
   "cell_type": "markdown",
   "metadata": {},
   "source": [
    "Посмотрим на тренд и сезонность данных с помощью функции `seasonal_decompose()`. Она раскладывает временной ряд на три составляющие: тренд, сезонность и остаток"
   ]
  },
  {
   "cell_type": "code",
   "execution_count": 8,
   "metadata": {},
   "outputs": [],
   "source": [
    "decomposed = seasonal_decompose(df)"
   ]
  },
  {
   "cell_type": "markdown",
   "metadata": {},
   "source": [
    "Построим 3 графика:"
   ]
  },
  {
   "cell_type": "code",
   "execution_count": 9,
   "metadata": {},
   "outputs": [
    {
     "data": {
      "image/png": "[encoded data removed]",
      "text/plain": [
       "<Figure size 864x576 with 3 Axes>"
      ]
     },
     "metadata": {
      "needs_background": "light"
     },
     "output_type": "display_data"
    }
   ],
   "source": [
    "plt.figure(figsize=(12, 8))\n",
    "plt.subplot(311)\n",
    "\n",
    "decomposed.trend.plot(ax=plt.gca())\n",
    "plt.title('Trend')\n",
    "plt.subplot(312)\n",
    "decomposed.seasonal.plot(ax=plt.gca())\n",
    "plt.title('Seasonality')\n",
    "plt.subplot(313)\n",
    "decomposed.resid.plot(ax=plt.gca())\n",
    "plt.title('Residuals')\n",
    "plt.tight_layout()"
   ]
  },
  {
   "cell_type": "code",
   "execution_count": 16,
   "metadata": {
    "scrolled": false
   },
   "outputs": [
    {
     "data": {
      "image/png": "[encoded data removed]",
      "text/plain": [
       "<Figure size 864x576 with 3 Axes>"
      ]
     },
     "metadata": {
      "needs_background": "light"
     },
     "output_type": "display_data"
    }
   ],
   "source": [
    "plt.figure(figsize=(12, 8))\n",
    "plt.subplot(311)\n",
    "\n",
    "decomposed.trend.plot(ax=plt.gca())\n",
    "plt.title('Trend')\n",
    "plt.subplot(312)\n",
    "decomposed.seasonal['2018-03-01':'2018-03-03'].plot(ax=plt.gca())\n",
    "plt.title('Seasonality')\n",
    "plt.subplot(313)\n",
    "decomposed.resid.plot(ax=plt.gca())\n",
    "plt.title('Residuals')\n",
    "plt.tight_layout()"
   ]
  },
  {
   "cell_type": "markdown",
   "metadata": {},
   "source": [
    "По графику сезонности можно отметить переодичность: пик загрузки приходится в полночь, минимум в 6 утра. Также наблюдается локальный максимум днем. "
   ]
  },
  {
   "cell_type": "markdown",
   "metadata": {},
   "source": [
    "### Выводы по главе 1:"
   ]
  },
  {
   "cell_type": "markdown",
   "metadata": {},
   "source": [
    "> В процессе загрузки и обработки данных обнаружили:  \n",
    "- Среднее меняется с течением времени. Данные представляют собой нестационарный временной ряд. Прогнозировать такие ряды сложнее: свойства меняются слишком быстро."
   ]
  },
  {
   "cell_type": "markdown",
   "metadata": {},
   "source": [
    "## Глава 2. Анализ"
   ]
  },
  {
   "cell_type": "markdown",
   "metadata": {},
   "source": [
    "Напишем функцию **make_features()**, Чтобы ряд сделать стационарным, найдём разности его значений, чтобы прибавить к таблице новых календарные признаки: месяц, день, день недели и час. Также отстающие значения с помощью функции `shift()`: 'lag_1', 'lag_2' — и до величины max_lag, признаки Скользящая средняя и стандартное отклонение:"
   ]
  },
  {
   "cell_type": "code",
   "execution_count": null,
   "metadata": {},
   "outputs": [],
   "source": [
    "def make_features(data, max_lag, rolling_mean_size):\n",
    "    data['difference'] = abs(data['num_orders'] - data['num_orders'].shift())\n",
    "    data['month'] = data.index.month\n",
    "    data['day'] = data.index.day\n",
    "    data['dayofweek'] = data.index.dayofweek\n",
    "    data['hour'] = data.index.hour\n",
    "    \n",
    "    for i in range(1, max_lag + 1):\n",
    "        data['lag_' + str(i)] = data['num_orders'].shift(i)\n",
    "    data['rolling_mean'] = data['num_orders'].shift().rolling(rolling_mean_size).mean()\n",
    "    data['std'] = data['num_orders'].shift().rolling(rolling_mean_size).std()\n",
    "\n",
    "make_features(df, 10, 10)"
   ]
  },
  {
   "cell_type": "markdown",
   "metadata": {},
   "source": [
    "Выведем ДатаФрейм с новыми признаками:"
   ]
  },
  {
   "cell_type": "code",
   "execution_count": 16,
   "metadata": {},
   "outputs": [
    {
     "data": {
      "text/html": [
       "<div>\n",
       "<style scoped>\n",
       "    .dataframe tbody tr th:only-of-type {\n",
       "        vertical-align: middle;\n",
       "    }\n",
       "\n",
       "    .dataframe tbody tr th {\n",
       "        vertical-align: top;\n",
       "    }\n",
       "\n",
       "    .dataframe thead th {\n",
       "        text-align: right;\n",
       "    }\n",
       "</style>\n",
       "<table border=\"1\" class=\"dataframe\">\n",
       "  <thead>\n",
       "    <tr style=\"text-align: right;\">\n",
       "      <th></th>\n",
       "      <th>num_orders</th>\n",
       "      <th>difference</th>\n",
       "      <th>month</th>\n",
       "      <th>day</th>\n",
       "      <th>dayofweek</th>\n",
       "      <th>hour</th>\n",
       "      <th>lag_1</th>\n",
       "      <th>rolling_mean</th>\n",
       "      <th>std</th>\n",
       "      <th>lag_2</th>\n",
       "      <th>lag_3</th>\n",
       "      <th>lag_4</th>\n",
       "      <th>lag_5</th>\n",
       "      <th>lag_6</th>\n",
       "      <th>lag_7</th>\n",
       "      <th>lag_8</th>\n",
       "      <th>lag_9</th>\n",
       "      <th>lag_10</th>\n",
       "    </tr>\n",
       "    <tr>\n",
       "      <th>datetime</th>\n",
       "      <th></th>\n",
       "      <th></th>\n",
       "      <th></th>\n",
       "      <th></th>\n",
       "      <th></th>\n",
       "      <th></th>\n",
       "      <th></th>\n",
       "      <th></th>\n",
       "      <th></th>\n",
       "      <th></th>\n",
       "      <th></th>\n",
       "      <th></th>\n",
       "      <th></th>\n",
       "      <th></th>\n",
       "      <th></th>\n",
       "      <th></th>\n",
       "      <th></th>\n",
       "      <th></th>\n",
       "    </tr>\n",
       "  </thead>\n",
       "  <tbody>\n",
       "    <tr>\n",
       "      <td>2018-03-01 00:00:00</td>\n",
       "      <td>124</td>\n",
       "      <td>NaN</td>\n",
       "      <td>3</td>\n",
       "      <td>1</td>\n",
       "      <td>3</td>\n",
       "      <td>0</td>\n",
       "      <td>NaN</td>\n",
       "      <td>NaN</td>\n",
       "      <td>NaN</td>\n",
       "      <td>NaN</td>\n",
       "      <td>NaN</td>\n",
       "      <td>NaN</td>\n",
       "      <td>NaN</td>\n",
       "      <td>NaN</td>\n",
       "      <td>NaN</td>\n",
       "      <td>NaN</td>\n",
       "      <td>NaN</td>\n",
       "      <td>NaN</td>\n",
       "    </tr>\n",
       "    <tr>\n",
       "      <td>2018-03-01 01:00:00</td>\n",
       "      <td>85</td>\n",
       "      <td>39.0</td>\n",
       "      <td>3</td>\n",
       "      <td>1</td>\n",
       "      <td>3</td>\n",
       "      <td>1</td>\n",
       "      <td>124.0</td>\n",
       "      <td>NaN</td>\n",
       "      <td>NaN</td>\n",
       "      <td>NaN</td>\n",
       "      <td>NaN</td>\n",
       "      <td>NaN</td>\n",
       "      <td>NaN</td>\n",
       "      <td>NaN</td>\n",
       "      <td>NaN</td>\n",
       "      <td>NaN</td>\n",
       "      <td>NaN</td>\n",
       "      <td>NaN</td>\n",
       "    </tr>\n",
       "    <tr>\n",
       "      <td>2018-03-01 02:00:00</td>\n",
       "      <td>71</td>\n",
       "      <td>14.0</td>\n",
       "      <td>3</td>\n",
       "      <td>1</td>\n",
       "      <td>3</td>\n",
       "      <td>2</td>\n",
       "      <td>85.0</td>\n",
       "      <td>NaN</td>\n",
       "      <td>NaN</td>\n",
       "      <td>124.0</td>\n",
       "      <td>NaN</td>\n",
       "      <td>NaN</td>\n",
       "      <td>NaN</td>\n",
       "      <td>NaN</td>\n",
       "      <td>NaN</td>\n",
       "      <td>NaN</td>\n",
       "      <td>NaN</td>\n",
       "      <td>NaN</td>\n",
       "    </tr>\n",
       "    <tr>\n",
       "      <td>2018-03-01 03:00:00</td>\n",
       "      <td>66</td>\n",
       "      <td>5.0</td>\n",
       "      <td>3</td>\n",
       "      <td>1</td>\n",
       "      <td>3</td>\n",
       "      <td>3</td>\n",
       "      <td>71.0</td>\n",
       "      <td>NaN</td>\n",
       "      <td>NaN</td>\n",
       "      <td>85.0</td>\n",
       "      <td>124.0</td>\n",
       "      <td>NaN</td>\n",
       "      <td>NaN</td>\n",
       "      <td>NaN</td>\n",
       "      <td>NaN</td>\n",
       "      <td>NaN</td>\n",
       "      <td>NaN</td>\n",
       "      <td>NaN</td>\n",
       "    </tr>\n",
       "    <tr>\n",
       "      <td>2018-03-01 04:00:00</td>\n",
       "      <td>43</td>\n",
       "      <td>23.0</td>\n",
       "      <td>3</td>\n",
       "      <td>1</td>\n",
       "      <td>3</td>\n",
       "      <td>4</td>\n",
       "      <td>66.0</td>\n",
       "      <td>NaN</td>\n",
       "      <td>NaN</td>\n",
       "      <td>71.0</td>\n",
       "      <td>85.0</td>\n",
       "      <td>124.0</td>\n",
       "      <td>NaN</td>\n",
       "      <td>NaN</td>\n",
       "      <td>NaN</td>\n",
       "      <td>NaN</td>\n",
       "      <td>NaN</td>\n",
       "      <td>NaN</td>\n",
       "    </tr>\n",
       "    <tr>\n",
       "      <td>...</td>\n",
       "      <td>...</td>\n",
       "      <td>...</td>\n",
       "      <td>...</td>\n",
       "      <td>...</td>\n",
       "      <td>...</td>\n",
       "      <td>...</td>\n",
       "      <td>...</td>\n",
       "      <td>...</td>\n",
       "      <td>...</td>\n",
       "      <td>...</td>\n",
       "      <td>...</td>\n",
       "      <td>...</td>\n",
       "      <td>...</td>\n",
       "      <td>...</td>\n",
       "      <td>...</td>\n",
       "      <td>...</td>\n",
       "      <td>...</td>\n",
       "      <td>...</td>\n",
       "    </tr>\n",
       "    <tr>\n",
       "      <td>2018-08-31 19:00:00</td>\n",
       "      <td>136</td>\n",
       "      <td>71.0</td>\n",
       "      <td>8</td>\n",
       "      <td>31</td>\n",
       "      <td>4</td>\n",
       "      <td>19</td>\n",
       "      <td>207.0</td>\n",
       "      <td>173.3</td>\n",
       "      <td>35.267391</td>\n",
       "      <td>217.0</td>\n",
       "      <td>197.0</td>\n",
       "      <td>116.0</td>\n",
       "      <td>133.0</td>\n",
       "      <td>166.0</td>\n",
       "      <td>136.0</td>\n",
       "      <td>167.0</td>\n",
       "      <td>191.0</td>\n",
       "      <td>203.0</td>\n",
       "    </tr>\n",
       "    <tr>\n",
       "      <td>2018-08-31 20:00:00</td>\n",
       "      <td>154</td>\n",
       "      <td>18.0</td>\n",
       "      <td>8</td>\n",
       "      <td>31</td>\n",
       "      <td>4</td>\n",
       "      <td>20</td>\n",
       "      <td>136.0</td>\n",
       "      <td>166.6</td>\n",
       "      <td>35.362252</td>\n",
       "      <td>207.0</td>\n",
       "      <td>217.0</td>\n",
       "      <td>197.0</td>\n",
       "      <td>116.0</td>\n",
       "      <td>133.0</td>\n",
       "      <td>166.0</td>\n",
       "      <td>136.0</td>\n",
       "      <td>167.0</td>\n",
       "      <td>191.0</td>\n",
       "    </tr>\n",
       "    <tr>\n",
       "      <td>2018-08-31 21:00:00</td>\n",
       "      <td>159</td>\n",
       "      <td>5.0</td>\n",
       "      <td>8</td>\n",
       "      <td>31</td>\n",
       "      <td>4</td>\n",
       "      <td>21</td>\n",
       "      <td>154.0</td>\n",
       "      <td>162.9</td>\n",
       "      <td>34.449480</td>\n",
       "      <td>136.0</td>\n",
       "      <td>207.0</td>\n",
       "      <td>217.0</td>\n",
       "      <td>197.0</td>\n",
       "      <td>116.0</td>\n",
       "      <td>133.0</td>\n",
       "      <td>166.0</td>\n",
       "      <td>136.0</td>\n",
       "      <td>167.0</td>\n",
       "    </tr>\n",
       "    <tr>\n",
       "      <td>2018-08-31 22:00:00</td>\n",
       "      <td>223</td>\n",
       "      <td>64.0</td>\n",
       "      <td>8</td>\n",
       "      <td>31</td>\n",
       "      <td>4</td>\n",
       "      <td>22</td>\n",
       "      <td>159.0</td>\n",
       "      <td>162.1</td>\n",
       "      <td>34.436576</td>\n",
       "      <td>154.0</td>\n",
       "      <td>136.0</td>\n",
       "      <td>207.0</td>\n",
       "      <td>217.0</td>\n",
       "      <td>197.0</td>\n",
       "      <td>116.0</td>\n",
       "      <td>133.0</td>\n",
       "      <td>166.0</td>\n",
       "      <td>136.0</td>\n",
       "    </tr>\n",
       "    <tr>\n",
       "      <td>2018-08-31 23:00:00</td>\n",
       "      <td>205</td>\n",
       "      <td>18.0</td>\n",
       "      <td>8</td>\n",
       "      <td>31</td>\n",
       "      <td>4</td>\n",
       "      <td>23</td>\n",
       "      <td>223.0</td>\n",
       "      <td>170.8</td>\n",
       "      <td>37.923314</td>\n",
       "      <td>159.0</td>\n",
       "      <td>154.0</td>\n",
       "      <td>136.0</td>\n",
       "      <td>207.0</td>\n",
       "      <td>217.0</td>\n",
       "      <td>197.0</td>\n",
       "      <td>116.0</td>\n",
       "      <td>133.0</td>\n",
       "      <td>166.0</td>\n",
       "    </tr>\n",
       "  </tbody>\n",
       "</table>\n",
       "<p>4416 rows × 18 columns</p>\n",
       "</div>"
      ],
      "text/plain": [
       "                     num_orders  difference  month  day  dayofweek  hour  \\\n",
       "datetime                                                                   \n",
       "2018-03-01 00:00:00         124         NaN      3    1          3     0   \n",
       "2018-03-01 01:00:00          85        39.0      3    1          3     1   \n",
       "2018-03-01 02:00:00          71        14.0      3    1          3     2   \n",
       "2018-03-01 03:00:00          66         5.0      3    1          3     3   \n",
       "2018-03-01 04:00:00          43        23.0      3    1          3     4   \n",
       "...                         ...         ...    ...  ...        ...   ...   \n",
       "2018-08-31 19:00:00         136        71.0      8   31          4    19   \n",
       "2018-08-31 20:00:00         154        18.0      8   31          4    20   \n",
       "2018-08-31 21:00:00         159         5.0      8   31          4    21   \n",
       "2018-08-31 22:00:00         223        64.0      8   31          4    22   \n",
       "2018-08-31 23:00:00         205        18.0      8   31          4    23   \n",
       "\n",
       "                     lag_1  rolling_mean        std  lag_2  lag_3  lag_4  \\\n",
       "datetime                                                                   \n",
       "2018-03-01 00:00:00    NaN           NaN        NaN    NaN    NaN    NaN   \n",
       "2018-03-01 01:00:00  124.0           NaN        NaN    NaN    NaN    NaN   \n",
       "2018-03-01 02:00:00   85.0           NaN        NaN  124.0    NaN    NaN   \n",
       "2018-03-01 03:00:00   71.0           NaN        NaN   85.0  124.0    NaN   \n",
       "2018-03-01 04:00:00   66.0           NaN        NaN   71.0   85.0  124.0   \n",
       "...                    ...           ...        ...    ...    ...    ...   \n",
       "2018-08-31 19:00:00  207.0         173.3  35.267391  217.0  197.0  116.0   \n",
       "2018-08-31 20:00:00  136.0         166.6  35.362252  207.0  217.0  197.0   \n",
       "2018-08-31 21:00:00  154.0         162.9  34.449480  136.0  207.0  217.0   \n",
       "2018-08-31 22:00:00  159.0         162.1  34.436576  154.0  136.0  207.0   \n",
       "2018-08-31 23:00:00  223.0         170.8  37.923314  159.0  154.0  136.0   \n",
       "\n",
       "                     lag_5  lag_6  lag_7  lag_8  lag_9  lag_10  \n",
       "datetime                                                        \n",
       "2018-03-01 00:00:00    NaN    NaN    NaN    NaN    NaN     NaN  \n",
       "2018-03-01 01:00:00    NaN    NaN    NaN    NaN    NaN     NaN  \n",
       "2018-03-01 02:00:00    NaN    NaN    NaN    NaN    NaN     NaN  \n",
       "2018-03-01 03:00:00    NaN    NaN    NaN    NaN    NaN     NaN  \n",
       "2018-03-01 04:00:00    NaN    NaN    NaN    NaN    NaN     NaN  \n",
       "...                    ...    ...    ...    ...    ...     ...  \n",
       "2018-08-31 19:00:00  133.0  166.0  136.0  167.0  191.0   203.0  \n",
       "2018-08-31 20:00:00  116.0  133.0  166.0  136.0  167.0   191.0  \n",
       "2018-08-31 21:00:00  197.0  116.0  133.0  166.0  136.0   167.0  \n",
       "2018-08-31 22:00:00  217.0  197.0  116.0  133.0  166.0   136.0  \n",
       "2018-08-31 23:00:00  207.0  217.0  197.0  116.0  133.0   166.0  \n",
       "\n",
       "[4416 rows x 18 columns]"
      ]
     },
     "execution_count": 16,
     "metadata": {},
     "output_type": "execute_result"
    }
   ],
   "source": [
    "df"
   ]
  },
  {
   "cell_type": "markdown",
   "metadata": {},
   "source": [
    "Разделим датафрейм на 3 части: обучающую, вилидационную и тестовую выбороки в пропорциях 3:1:1, используя функцию `train_test_split` из библиетеки `sklearn.model_selection` и удалим пропуски в тестовой выборке, с помощью `.dropna()`"
   ]
  },
  {
   "cell_type": "code",
   "execution_count": 17,
   "metadata": {},
   "outputs": [],
   "source": [
    "train, test = train_test_split(df, shuffle=False, test_size=0.2)\n",
    "train, valid = train_test_split(train, shuffle=False, test_size=0.25)\n",
    "train = train.dropna()"
   ]
  },
  {
   "cell_type": "code",
   "execution_count": 18,
   "metadata": {},
   "outputs": [
    {
     "data": {
      "text/plain": [
       "((2639, 18), (883, 18), (884, 18))"
      ]
     },
     "execution_count": 18,
     "metadata": {},
     "output_type": "execute_result"
    }
   ],
   "source": [
    "train.shape, valid.shape, test.shape"
   ]
  },
  {
   "cell_type": "markdown",
   "metadata": {},
   "source": [
    "Разделим выборки на `features` -  признаки и `target` — целевой признак."
   ]
  },
  {
   "cell_type": "code",
   "execution_count": 19,
   "metadata": {},
   "outputs": [],
   "source": [
    "train_features = train.drop(['num_orders'], axis=1)\n",
    "valid_features = valid.drop(['num_orders'], axis=1)\n",
    "test_features = test.drop(['num_orders'], axis=1)\n",
    "\n",
    "train_target = train['num_orders']\n",
    "valid_target = valid['num_orders']\n",
    "test_target = test['num_orders']"
   ]
  },
  {
   "cell_type": "markdown",
   "metadata": {},
   "source": [
    "Для того, чтобы отмаштабировать признаки, воспользуемся одним из методов масштабирования — стандартизации данных.  \n",
    "В sklearn есть отдельная структура для стандартизации данных — **StandardScaler**  \n",
    "Преобразуем обучающую,валидационную и тестовую выборки функцией `transform()`."
   ]
  },
  {
   "cell_type": "code",
   "execution_count": 20,
   "metadata": {},
   "outputs": [],
   "source": [
    "scaler = StandardScaler()\n",
    "scaler.fit(train_features)\n",
    "\n",
    "train_features = scaler.transform(train_features)\n",
    "valid_features = scaler.transform(valid_features)\n",
    "test_features = scaler.transform(test_features)"
   ]
  },
  {
   "cell_type": "markdown",
   "metadata": {},
   "source": [
    "Напишем функцию оценки качества моделей **RMSE**:"
   ]
  },
  {
   "cell_type": "code",
   "execution_count": 21,
   "metadata": {},
   "outputs": [],
   "source": [
    "def RMSE(target, predict):\n",
    "    RMSE = mean_squared_error(target, predict) ** 0.5\n",
    "    return RMSE"
   ]
  },
  {
   "cell_type": "markdown",
   "metadata": {},
   "source": [
    "### Выводы по главе 2:"
   ]
  },
  {
   "cell_type": "markdown",
   "metadata": {},
   "source": [
    "> В процессе анализа:\n",
    "- Привели временной ряд к стационарному, используя разницу между текущим и предыдущим значениями. Такой временной ряд проще прогнозировать.\n",
    "- Добавили новые признаки для обучения моделей. Это позволит моделям искать взаимосвязи в данных и лучше обучаться."
   ]
  },
  {
   "cell_type": "markdown",
   "metadata": {},
   "source": [
    "## Глава 3. Обучение моделей"
   ]
  },
  {
   "cell_type": "markdown",
   "metadata": {},
   "source": [
    "Обучим следующие модели для предсказания:\n",
    "- линейную регресиию **LinearRegression**\n",
    "- модель стохастического градиентного спуска **SGDRegressor**\n",
    "- модель градиентного бустинга  **XGBRegressor**\n",
    "- модель градиентного бустинга  **CatBoostRegressor**\n",
    "- модель градиентного бустинга  **LGBMRegressor**"
   ]
  },
  {
   "cell_type": "markdown",
   "metadata": {},
   "source": [
    "Обучать модели и тюнить гиперпараметры будем на обучающей выборке, делать финальное обучение на обучающей и валидационной выборке, чтобы модель обучилась на расширенном объеме данных и смогла сделалать лучше предсказания на тестовой выборке."
   ]
  },
  {
   "cell_type": "markdown",
   "metadata": {},
   "source": [
    "Запишем объединенные выборки в переменные **train_valid_features** и **train_valid_target**:"
   ]
  },
  {
   "cell_type": "code",
   "execution_count": 48,
   "metadata": {},
   "outputs": [],
   "source": [
    "train_valid_features = np.vstack((train_features, valid_features))"
   ]
  },
  {
   "cell_type": "code",
   "execution_count": 49,
   "metadata": {},
   "outputs": [],
   "source": [
    "train_valid_target = train_target.append(valid_target)"
   ]
  },
  {
   "cell_type": "code",
   "execution_count": 50,
   "metadata": {},
   "outputs": [
    {
     "data": {
      "text/plain": [
       "((3522, 17), (3522,))"
      ]
     },
     "execution_count": 50,
     "metadata": {},
     "output_type": "execute_result"
    }
   ],
   "source": [
    "train_valid_features.shape, train_valid_target.shape"
   ]
  },
  {
   "cell_type": "markdown",
   "metadata": {},
   "source": [
    "#### 1. Обучим линейную регресиию **LinearRegression**"
   ]
  },
  {
   "cell_type": "markdown",
   "metadata": {},
   "source": [
    "Импортируем модель:"
   ]
  },
  {
   "cell_type": "code",
   "execution_count": 51,
   "metadata": {},
   "outputs": [],
   "source": [
    "from sklearn.linear_model import LinearRegression"
   ]
  },
  {
   "cell_type": "markdown",
   "metadata": {},
   "source": [
    "Созданим объект модель:"
   ]
  },
  {
   "cell_type": "code",
   "execution_count": 52,
   "metadata": {},
   "outputs": [],
   "source": [
    "LinearReg_model = LinearRegression()"
   ]
  },
  {
   "cell_type": "markdown",
   "metadata": {},
   "source": [
    "Обучим модель:"
   ]
  },
  {
   "cell_type": "code",
   "execution_count": 53,
   "metadata": {},
   "outputs": [
    {
     "name": "stdout",
     "output_type": "stream",
     "text": [
      "CPU times: user 8 ms, sys: 0 ns, total: 8 ms\n",
      "Wall time: 71.9 ms\n"
     ]
    },
    {
     "data": {
      "text/plain": [
       "LinearRegression(copy_X=True, fit_intercept=True, n_jobs=None, normalize=False)"
      ]
     },
     "execution_count": 53,
     "metadata": {},
     "output_type": "execute_result"
    }
   ],
   "source": [
    "%%time\n",
    "LinearReg_model.fit(train_valid_features, train_valid_target)"
   ]
  },
  {
   "cell_type": "markdown",
   "metadata": {},
   "source": [
    "Сделаем предсказания для обучающей выборке и найдем функцию потерь модели:"
   ]
  },
  {
   "cell_type": "code",
   "execution_count": 54,
   "metadata": {},
   "outputs": [
    {
     "name": "stdout",
     "output_type": "stream",
     "text": [
      "CPU times: user 4 ms, sys: 4 ms, total: 8 ms\n",
      "Wall time: 80.5 ms\n"
     ]
    }
   ],
   "source": [
    "%%time\n",
    "pred_train_valid = LinearReg_model.predict(train_valid_features)"
   ]
  },
  {
   "cell_type": "markdown",
   "metadata": {},
   "source": [
    "Оценим модель на валидационной выборке по RMSE:"
   ]
  },
  {
   "cell_type": "code",
   "execution_count": 55,
   "metadata": {},
   "outputs": [
    {
     "name": "stdout",
     "output_type": "stream",
     "text": [
      "RMSE на валидационной выборке:  28.53\n"
     ]
    }
   ],
   "source": [
    "print('RMSE на валидационной выборке: ', RMSE(train_valid_target, pred_train_valid).round(2))"
   ]
  },
  {
   "cell_type": "markdown",
   "metadata": {},
   "source": [
    "#### 2. Обучим модель стохастического градиентного спуска **SGDRegressor**"
   ]
  },
  {
   "cell_type": "markdown",
   "metadata": {},
   "source": [
    "Импортируем модель:"
   ]
  },
  {
   "cell_type": "code",
   "execution_count": 56,
   "metadata": {},
   "outputs": [],
   "source": [
    "from sklearn.linear_model import SGDRegressor"
   ]
  },
  {
   "cell_type": "markdown",
   "metadata": {},
   "source": [
    "Созданим объект модель:"
   ]
  },
  {
   "cell_type": "code",
   "execution_count": 57,
   "metadata": {},
   "outputs": [
    {
     "data": {
      "text/plain": [
       "SGDRegressor(alpha=0.0001, average=False, early_stopping=False, epsilon=0.1,\n",
       "             eta0=0.01, fit_intercept=True, l1_ratio=0.15,\n",
       "             learning_rate='invscaling', loss='squared_loss', max_iter=1000,\n",
       "             n_iter_no_change=5, penalty='l2', power_t=0.25, random_state=12345,\n",
       "             shuffle=False, tol=0.001, validation_fraction=0.1, verbose=0,\n",
       "             warm_start=False)"
      ]
     },
     "execution_count": 57,
     "metadata": {},
     "output_type": "execute_result"
    }
   ],
   "source": [
    "SGD_LinearReg_model = SGDRegressor(random_state=12345, shuffle=False)\n",
    "SGD_LinearReg_model"
   ]
  },
  {
   "cell_type": "markdown",
   "metadata": {},
   "source": [
    "Добавим сетку гиперпараметров для обучения:"
   ]
  },
  {
   "cell_type": "code",
   "execution_count": 58,
   "metadata": {},
   "outputs": [],
   "source": [
    "param_grid = {'alpha' : [0.0001, 0.001],\n",
    "              'max_iter': [1e3, 1e4, 1e5],\n",
    "              'eta0': [0.1, 0.01, 0.001]}"
   ]
  },
  {
   "cell_type": "markdown",
   "metadata": {},
   "source": [
    "Обучим модель по сетке гиперпараметров:"
   ]
  },
  {
   "cell_type": "code",
   "execution_count": 59,
   "metadata": {},
   "outputs": [
    {
     "name": "stdout",
     "output_type": "stream",
     "text": [
      "alpha = 0.0001 , max_iter = 1000.0, eta0 = 0.1, RMSE на валидационной выборке: 32.26\n",
      "alpha = 0.0001 , max_iter = 1000.0, eta0 = 0.01, RMSE на валидационной выборке: 32.66\n",
      "alpha = 0.0001 , max_iter = 1000.0, eta0 = 0.001, RMSE на валидационной выборке: 32.74\n",
      "alpha = 0.0001 , max_iter = 10000.0, eta0 = 0.1, RMSE на валидационной выборке: 32.31\n",
      "alpha = 0.0001 , max_iter = 10000.0, eta0 = 0.01, RMSE на валидационной выборке: 32.66\n",
      "alpha = 0.0001 , max_iter = 10000.0, eta0 = 0.001, RMSE на валидационной выборке: 32.74\n",
      "alpha = 0.0001 , max_iter = 100000.0, eta0 = 0.1, RMSE на валидационной выборке: 32.31\n",
      "alpha = 0.0001 , max_iter = 100000.0, eta0 = 0.01, RMSE на валидационной выборке: 32.66\n",
      "alpha = 0.0001 , max_iter = 100000.0, eta0 = 0.001, RMSE на валидационной выборке: 32.74\n",
      "alpha = 0.001 , max_iter = 1000.0, eta0 = 0.1, RMSE на валидационной выборке: 32.26\n",
      "alpha = 0.001 , max_iter = 1000.0, eta0 = 0.01, RMSE на валидационной выборке: 32.66\n",
      "alpha = 0.001 , max_iter = 1000.0, eta0 = 0.001, RMSE на валидационной выборке: 32.74\n",
      "alpha = 0.001 , max_iter = 10000.0, eta0 = 0.1, RMSE на валидационной выборке: 32.31\n",
      "alpha = 0.001 , max_iter = 10000.0, eta0 = 0.01, RMSE на валидационной выборке: 32.66\n",
      "alpha = 0.001 , max_iter = 10000.0, eta0 = 0.001, RMSE на валидационной выборке: 32.74\n",
      "alpha = 0.001 , max_iter = 100000.0, eta0 = 0.1, RMSE на валидационной выборке: 32.31\n",
      "alpha = 0.001 , max_iter = 100000.0, eta0 = 0.01, RMSE на валидационной выборке: 32.66\n",
      "alpha = 0.001 , max_iter = 100000.0, eta0 = 0.001, RMSE на валидационной выборке: 32.74\n",
      "CPU times: user 8.74 s, sys: 1.76 s, total: 10.5 s\n",
      "Wall time: 10.6 s\n"
     ]
    }
   ],
   "source": [
    "%%time\n",
    "for i in param_grid['alpha']:\n",
    "    for j in param_grid['max_iter']:\n",
    "        for g in param_grid['eta0']:\n",
    "            SGD_LinearReg_model = SGDRegressor(random_state=12345, shuffle=False, alpha=i, max_iter=j, eta0=g)\n",
    "            SGD_LinearReg_model.fit(train_features, train_target)\n",
    "            pred_valid = SGD_LinearReg_model.predict(valid_features)\n",
    "            print('alpha = {} , max_iter = {}, eta0 = {}, RMSE на валидационной выборке: {}'\n",
    "                  .format(i, j, g, RMSE(valid_target, pred_valid).round(2)))"
   ]
  },
  {
   "cell_type": "markdown",
   "metadata": {},
   "source": [
    "Обучим модель на обучающей выборке с найденными гиперпараметрами, сделаем предсказания на валидационной:"
   ]
  },
  {
   "cell_type": "code",
   "execution_count": 60,
   "metadata": {},
   "outputs": [],
   "source": [
    "SGD_LinearReg_model = SGDRegressor(alpha = 0.0001 , max_iter = 1000.0, eta0 = 0.1, shuffle=False, random_state=12345)"
   ]
  },
  {
   "cell_type": "code",
   "execution_count": 61,
   "metadata": {},
   "outputs": [
    {
     "name": "stdout",
     "output_type": "stream",
     "text": [
      "CPU times: user 620 ms, sys: 0 ns, total: 620 ms\n",
      "Wall time: 623 ms\n"
     ]
    },
    {
     "data": {
      "text/plain": [
       "SGDRegressor(alpha=0.0001, average=False, early_stopping=False, epsilon=0.1,\n",
       "             eta0=0.1, fit_intercept=True, l1_ratio=0.15,\n",
       "             learning_rate='invscaling', loss='squared_loss', max_iter=1000.0,\n",
       "             n_iter_no_change=5, penalty='l2', power_t=0.25, random_state=12345,\n",
       "             shuffle=False, tol=0.001, validation_fraction=0.1, verbose=0,\n",
       "             warm_start=False)"
      ]
     },
     "execution_count": 61,
     "metadata": {},
     "output_type": "execute_result"
    }
   ],
   "source": [
    "%%time\n",
    "SGD_LinearReg_model.fit(train_valid_features, train_valid_target)"
   ]
  },
  {
   "cell_type": "markdown",
   "metadata": {},
   "source": [
    "#### 3. Обучим модель градиентного бустинга  **XGBRegressor**"
   ]
  },
  {
   "cell_type": "code",
   "execution_count": 64,
   "metadata": {},
   "outputs": [],
   "source": [
    "from xgboost import XGBRegressor"
   ]
  },
  {
   "cell_type": "code",
   "execution_count": 65,
   "metadata": {},
   "outputs": [
    {
     "data": {
      "text/plain": [
       "XGBRegressor(base_score=0.5, booster='gbtree', colsample_bylevel=1,\n",
       "             colsample_bynode=1, colsample_bytree=1, gamma=0,\n",
       "             importance_type='gain', learning_rate=0.1, max_delta_step=0,\n",
       "             max_depth=3, min_child_weight=1, missing=None, n_estimators=100,\n",
       "             n_jobs=-1, nthread=None, objective='reg:linear', random_state=0,\n",
       "             reg_alpha=0, reg_lambda=1, scale_pos_weight=1, seed=None,\n",
       "             silent=None, subsample=1, verbosity=0)"
      ]
     },
     "execution_count": 65,
     "metadata": {},
     "output_type": "execute_result"
    }
   ],
   "source": [
    "XGBRegressor_model = XGBRegressor(n_jobs=-1, verbosity=0)\n",
    "XGBRegressor_model"
   ]
  },
  {
   "cell_type": "code",
   "execution_count": 66,
   "metadata": {},
   "outputs": [],
   "source": [
    "param_grid = {'max_depth': [2, 4, 6],\n",
    "              'n_estimators': [50, 100, 200],\n",
    "              'learning_rate': [0.1, 0.3, 0.5]}"
   ]
  },
  {
   "cell_type": "code",
   "execution_count": 67,
   "metadata": {},
   "outputs": [
    {
     "name": "stdout",
     "output_type": "stream",
     "text": [
      "max_depth = 2 , n_estimators = 50, learning_rate = 0.1, RMSE на валидационной выборке: 27.85\n",
      "max_depth = 2 , n_estimators = 50, learning_rate = 0.3, RMSE на валидационной выборке: 24.22\n",
      "max_depth = 2 , n_estimators = 50, learning_rate = 0.5, RMSE на валидационной выборке: 23.49\n",
      "max_depth = 2 , n_estimators = 100, learning_rate = 0.1, RMSE на валидационной выборке: 25.44\n",
      "max_depth = 2 , n_estimators = 100, learning_rate = 0.3, RMSE на валидационной выборке: 23.11\n",
      "max_depth = 2 , n_estimators = 100, learning_rate = 0.5, RMSE на валидационной выборке: 23.02\n",
      "max_depth = 2 , n_estimators = 200, learning_rate = 0.1, RMSE на валидационной выборке: 24.19\n",
      "max_depth = 2 , n_estimators = 200, learning_rate = 0.3, RMSE на валидационной выборке: 22.89\n",
      "max_depth = 2 , n_estimators = 200, learning_rate = 0.5, RMSE на валидационной выборке: 23.21\n",
      "max_depth = 4 , n_estimators = 50, learning_rate = 0.1, RMSE на валидационной выборке: 23.06\n",
      "max_depth = 4 , n_estimators = 50, learning_rate = 0.3, RMSE на валидационной выборке: 22.95\n",
      "max_depth = 4 , n_estimators = 50, learning_rate = 0.5, RMSE на валидационной выборке: 23.52\n",
      "max_depth = 4 , n_estimators = 100, learning_rate = 0.1, RMSE на валидационной выборке: 21.62\n",
      "max_depth = 4 , n_estimators = 100, learning_rate = 0.3, RMSE на валидационной выборке: 22.8\n",
      "max_depth = 4 , n_estimators = 100, learning_rate = 0.5, RMSE на валидационной выборке: 23.84\n",
      "max_depth = 4 , n_estimators = 200, learning_rate = 0.1, RMSE на валидационной выборке: 21.23\n",
      "max_depth = 4 , n_estimators = 200, learning_rate = 0.3, RMSE на валидационной выборке: 22.94\n",
      "max_depth = 4 , n_estimators = 200, learning_rate = 0.5, RMSE на валидационной выборке: 24.15\n",
      "max_depth = 6 , n_estimators = 50, learning_rate = 0.1, RMSE на валидационной выборке: 22.49\n",
      "max_depth = 6 , n_estimators = 50, learning_rate = 0.3, RMSE на валидационной выборке: 22.59\n",
      "max_depth = 6 , n_estimators = 50, learning_rate = 0.5, RMSE на валидационной выборке: 23.4\n",
      "max_depth = 6 , n_estimators = 100, learning_rate = 0.1, RMSE на валидационной выборке: 21.94\n",
      "max_depth = 6 , n_estimators = 100, learning_rate = 0.3, RMSE на валидационной выборке: 22.59\n",
      "max_depth = 6 , n_estimators = 100, learning_rate = 0.5, RMSE на валидационной выборке: 23.47\n",
      "max_depth = 6 , n_estimators = 200, learning_rate = 0.1, RMSE на валидационной выборке: 21.94\n",
      "max_depth = 6 , n_estimators = 200, learning_rate = 0.3, RMSE на валидационной выборке: 22.64\n",
      "max_depth = 6 , n_estimators = 200, learning_rate = 0.5, RMSE на валидационной выборке: 23.47\n",
      "CPU times: user 8min 17s, sys: 3.9 s, total: 8min 21s\n",
      "Wall time: 8min 26s\n"
     ]
    }
   ],
   "source": [
    "%%time\n",
    "for i in param_grid['max_depth']:\n",
    "    for j in param_grid['n_estimators']:\n",
    "        for g in param_grid['learning_rate']:\n",
    "            XGBRegressor_model = XGBRegressor(n_jobs=-1, verbosity=0, random_state=12345, \n",
    "                                              shuffle=False, max_depth=i, n_estimators=j, learning_rate=g)\n",
    "            XGBRegressor_model.fit(train_features, train_target)\n",
    "            pred_valid = XGBRegressor_model.predict(valid_features)\n",
    "            print('max_depth = {} , n_estimators = {}, learning_rate = {}, RMSE на валидационной выборке: {}'\n",
    "                  .format(i, j, g, RMSE(valid_target, pred_valid).round(2)))"
   ]
  },
  {
   "cell_type": "code",
   "execution_count": 68,
   "metadata": {},
   "outputs": [],
   "source": [
    "XGBRegressor_model = XGBRegressor(n_jobs=-1, verbosity=0, random_state=12345, max_depth = 4 , \n",
    "                                  n_estimators = 200, learning_rate = 0.1)"
   ]
  },
  {
   "cell_type": "code",
   "execution_count": 69,
   "metadata": {},
   "outputs": [
    {
     "name": "stdout",
     "output_type": "stream",
     "text": [
      "CPU times: user 2.21 s, sys: 16 ms, total: 2.23 s\n",
      "Wall time: 2.2 s\n"
     ]
    },
    {
     "data": {
      "text/plain": [
       "XGBRegressor(base_score=0.5, booster='gbtree', colsample_bylevel=1,\n",
       "             colsample_bynode=1, colsample_bytree=1, gamma=0,\n",
       "             importance_type='gain', learning_rate=0.1, max_delta_step=0,\n",
       "             max_depth=4, min_child_weight=1, missing=None, n_estimators=200,\n",
       "             n_jobs=-1, nthread=None, objective='reg:linear',\n",
       "             random_state=12345, reg_alpha=0, reg_lambda=1, scale_pos_weight=1,\n",
       "             seed=None, silent=None, subsample=1, verbosity=0)"
      ]
     },
     "execution_count": 69,
     "metadata": {},
     "output_type": "execute_result"
    }
   ],
   "source": [
    "%%time\n",
    "XGBRegressor_model.fit(train_valid_features, train_valid_target)"
   ]
  },
  {
   "cell_type": "markdown",
   "metadata": {},
   "source": [
    "#### 4. Обучим модель градиентного бустинга  CatBoostRegressor"
   ]
  },
  {
   "cell_type": "code",
   "execution_count": 70,
   "metadata": {},
   "outputs": [],
   "source": [
    "from catboost import CatBoostRegressor"
   ]
  },
  {
   "cell_type": "code",
   "execution_count": 71,
   "metadata": {},
   "outputs": [],
   "source": [
    "CatBoost_model = CatBoostRegressor(random_state=12345)"
   ]
  },
  {
   "cell_type": "code",
   "execution_count": 72,
   "metadata": {},
   "outputs": [],
   "source": [
    "param_grid = {'max_depth': [2, 4, 6],\n",
    "              'learning_rate': [0.1, 0.3, 0.5],\n",
    "              'iterations': [50, 100, 200]}"
   ]
  },
  {
   "cell_type": "code",
   "execution_count": 73,
   "metadata": {
    "scrolled": false
   },
   "outputs": [
    {
     "name": "stdout",
     "output_type": "stream",
     "text": [
      "0:\tlearn: 32.5752788\ttotal: 68.8ms\tremaining: 3.37s\n",
      "49:\tlearn: 21.6950706\ttotal: 393ms\tremaining: 0us\n",
      "max_depth = 2 , learning_rate = 0.1, iterations = 50, RMSE на валидационной выборке: 29.1\n",
      "0:\tlearn: 32.5752788\ttotal: 1.36ms\tremaining: 135ms\n",
      "99:\tlearn: 19.8377786\ttotal: 578ms\tremaining: 0us\n",
      "max_depth = 2 , learning_rate = 0.1, iterations = 100, RMSE на валидационной выборке: 26.79\n",
      "0:\tlearn: 32.5752788\ttotal: 12ms\tremaining: 2.38s\n",
      "100:\tlearn: 19.7946764\ttotal: 599ms\tremaining: 588ms\n",
      "199:\tlearn: 17.9268165\ttotal: 1.25s\tremaining: 0us\n",
      "max_depth = 2 , learning_rate = 0.1, iterations = 200, RMSE на валидационной выборке: 25.15\n",
      "0:\tlearn: 31.2078314\ttotal: 52.3ms\tremaining: 2.56s\n",
      "49:\tlearn: 18.5341080\ttotal: 386ms\tremaining: 0us\n",
      "max_depth = 2 , learning_rate = 0.3, iterations = 50, RMSE на валидационной выборке: 25.84\n",
      "0:\tlearn: 31.2078314\ttotal: 31.9ms\tremaining: 3.15s\n",
      "99:\tlearn: 16.6642703\ttotal: 692ms\tremaining: 0us\n",
      "max_depth = 2 , learning_rate = 0.3, iterations = 100, RMSE на валидационной выборке: 24.49\n",
      "0:\tlearn: 31.2078314\ttotal: 1.06ms\tremaining: 211ms\n",
      "100:\tlearn: 16.6409024\ttotal: 576ms\tremaining: 565ms\n",
      "199:\tlearn: 14.5627514\ttotal: 1.23s\tremaining: 0us\n",
      "max_depth = 2 , learning_rate = 0.3, iterations = 200, RMSE на валидационной выборке: 23.62\n",
      "0:\tlearn: 30.1390010\ttotal: 1.03ms\tremaining: 50.4ms\n",
      "49:\tlearn: 17.5261284\ttotal: 257ms\tremaining: 0us\n",
      "max_depth = 2 , learning_rate = 0.5, iterations = 50, RMSE на валидационной выборке: 24.42\n",
      "0:\tlearn: 30.1390010\ttotal: 12.7ms\tremaining: 1.26s\n",
      "99:\tlearn: 15.3836738\ttotal: 680ms\tremaining: 0us\n",
      "max_depth = 2 , learning_rate = 0.5, iterations = 100, RMSE на валидационной выборке: 23.17\n",
      "0:\tlearn: 30.1390010\ttotal: 1ms\tremaining: 199ms\n",
      "100:\tlearn: 15.3717214\ttotal: 748ms\tremaining: 733ms\n",
      "199:\tlearn: 13.7153635\ttotal: 1.39s\tremaining: 0us\n",
      "max_depth = 2 , learning_rate = 0.5, iterations = 200, RMSE на валидационной выборке: 23.03\n",
      "0:\tlearn: 32.1271802\ttotal: 84.4ms\tremaining: 4.14s\n",
      "49:\tlearn: 17.9549503\ttotal: 612ms\tremaining: 0us\n",
      "max_depth = 4 , learning_rate = 0.1, iterations = 50, RMSE на валидационной выборке: 24.76\n",
      "0:\tlearn: 32.1271802\ttotal: 1.55ms\tremaining: 154ms\n",
      "99:\tlearn: 15.7005278\ttotal: 995ms\tremaining: 0us\n",
      "max_depth = 4 , learning_rate = 0.1, iterations = 100, RMSE на валидационной выборке: 22.84\n",
      "0:\tlearn: 32.1271802\ttotal: 29.5ms\tremaining: 5.88s\n",
      "100:\tlearn: 15.6764859\ttotal: 1.1s\tremaining: 1.08s\n",
      "199:\tlearn: 13.5315134\ttotal: 2.25s\tremaining: 0us\n",
      "max_depth = 4 , learning_rate = 0.1, iterations = 200, RMSE на валидационной выборке: 21.79\n",
      "0:\tlearn: 29.9320167\ttotal: 17.1ms\tremaining: 840ms\n",
      "49:\tlearn: 14.6385852\ttotal: 643ms\tremaining: 0us\n",
      "max_depth = 4 , learning_rate = 0.3, iterations = 50, RMSE на валидационной выборке: 22.3\n",
      "0:\tlearn: 29.9320167\ttotal: 28ms\tremaining: 2.77s\n",
      "99:\tlearn: 12.4013348\ttotal: 1.08s\tremaining: 0us\n",
      "max_depth = 4 , learning_rate = 0.3, iterations = 100, RMSE на валидационной выборке: 22.01\n",
      "0:\tlearn: 29.9320167\ttotal: 71.3ms\tremaining: 14.2s\n",
      "100:\tlearn: 12.3728660\ttotal: 1.22s\tremaining: 1.19s\n",
      "199:\tlearn: 9.7644769\ttotal: 2.33s\tremaining: 0us\n",
      "max_depth = 4 , learning_rate = 0.3, iterations = 200, RMSE на валидационной выборке: 21.74\n",
      "0:\tlearn: 28.1658372\ttotal: 3.12ms\tremaining: 153ms\n",
      "49:\tlearn: 13.4236693\ttotal: 811ms\tremaining: 0us\n",
      "max_depth = 4 , learning_rate = 0.5, iterations = 50, RMSE на валидационной выборке: 22.83\n",
      "0:\tlearn: 28.1658372\ttotal: 62.3ms\tremaining: 6.17s\n",
      "99:\tlearn: 10.8550964\ttotal: 1.82s\tremaining: 0us\n",
      "max_depth = 4 , learning_rate = 0.5, iterations = 100, RMSE на валидационной выборке: 22.46\n",
      "0:\tlearn: 28.1658372\ttotal: 53.2ms\tremaining: 10.6s\n",
      "100:\tlearn: 10.8038067\ttotal: 1.8s\tremaining: 1.76s\n",
      "199:\tlearn: 7.7880978\ttotal: 3.38s\tremaining: 0us\n",
      "max_depth = 4 , learning_rate = 0.5, iterations = 200, RMSE на валидационной выборке: 22.7\n",
      "0:\tlearn: 32.0901083\ttotal: 84.9ms\tremaining: 4.16s\n",
      "49:\tlearn: 15.7963477\ttotal: 1.32s\tremaining: 0us\n",
      "max_depth = 6 , learning_rate = 0.1, iterations = 50, RMSE на валидационной выборке: 23.54\n",
      "0:\tlearn: 32.0901083\ttotal: 4.34ms\tremaining: 430ms\n",
      "99:\tlearn: 13.5152673\ttotal: 2.73s\tremaining: 0us\n",
      "max_depth = 6 , learning_rate = 0.1, iterations = 100, RMSE на валидационной выборке: 21.89\n",
      "0:\tlearn: 32.0901083\ttotal: 6.36ms\tremaining: 1.26s\n",
      "100:\tlearn: 13.5128694\ttotal: 2.94s\tremaining: 2.88s\n",
      "199:\tlearn: 10.9183565\ttotal: 5.48s\tremaining: 0us\n",
      "max_depth = 6 , learning_rate = 0.1, iterations = 200, RMSE на валидационной выборке: 21.38\n",
      "0:\tlearn: 29.8137963\ttotal: 42.4ms\tremaining: 2.08s\n",
      "49:\tlearn: 12.2764309\ttotal: 961ms\tremaining: 0us\n",
      "max_depth = 6 , learning_rate = 0.3, iterations = 50, RMSE на валидационной выборке: 22.04\n",
      "0:\tlearn: 29.8137963\ttotal: 12.5ms\tremaining: 1.24s\n",
      "99:\tlearn: 9.3036291\ttotal: 1.85s\tremaining: 0us\n",
      "max_depth = 6 , learning_rate = 0.3, iterations = 100, RMSE на валидационной выборке: 21.63\n",
      "0:\tlearn: 29.8137963\ttotal: 61.1ms\tremaining: 12.2s\n",
      "100:\tlearn: 9.2132456\ttotal: 1.9s\tremaining: 1.86s\n",
      "199:\tlearn: 5.8860296\ttotal: 3.75s\tremaining: 0us\n",
      "max_depth = 6 , learning_rate = 0.3, iterations = 200, RMSE на валидационной выборке: 21.69\n",
      "0:\tlearn: 27.9584295\ttotal: 72.5ms\tremaining: 3.55s\n",
      "49:\tlearn: 10.1791853\ttotal: 994ms\tremaining: 0us\n",
      "max_depth = 6 , learning_rate = 0.5, iterations = 50, RMSE на валидационной выборке: 22.87\n",
      "0:\tlearn: 27.9584295\ttotal: 49.1ms\tremaining: 4.86s\n",
      "99:\tlearn: 6.7800832\ttotal: 1.92s\tremaining: 0us\n",
      "max_depth = 6 , learning_rate = 0.5, iterations = 100, RMSE на валидационной выборке: 22.8\n",
      "0:\tlearn: 27.9584295\ttotal: 29.3ms\tremaining: 5.83s\n",
      "100:\tlearn: 6.7394339\ttotal: 1.89s\tremaining: 1.85s\n",
      "199:\tlearn: 3.5762833\ttotal: 3.71s\tremaining: 0us\n",
      "max_depth = 6 , learning_rate = 0.5, iterations = 200, RMSE на валидационной выборке: 22.87\n",
      "CPU times: user 41.8 s, sys: 7.72 s, total: 49.5 s\n",
      "Wall time: 2min 1s\n"
     ]
    }
   ],
   "source": [
    "%%time\n",
    "for i in param_grid['max_depth']:\n",
    "    for j in param_grid['learning_rate']:\n",
    "        for g in param_grid['iterations']:\n",
    "            CatBoost_model = CatBoostRegressor(random_state=12345, max_depth=i, learning_rate=j, iterations=g)\n",
    "            CatBoost_model.fit(train_features, train_target, verbose=100)\n",
    "            pred_valid = CatBoost_model.predict(valid_features)\n",
    "            print('max_depth = {} , learning_rate = {}, iterations = {}, RMSE на валидационной выборке: {}'\n",
    "                  .format(i, j, g, RMSE(valid_target, pred_valid).round(2)))"
   ]
  },
  {
   "cell_type": "code",
   "execution_count": 74,
   "metadata": {},
   "outputs": [],
   "source": [
    "CatBoost_model = CatBoostRegressor(random_state=12345, max_depth = 6 , learning_rate = 0.1, iterations = 200)"
   ]
  },
  {
   "cell_type": "code",
   "execution_count": 75,
   "metadata": {
    "scrolled": false
   },
   "outputs": [
    {
     "name": "stdout",
     "output_type": "stream",
     "text": [
      "0:\tlearn: 34.0887921\ttotal: 54ms\tremaining: 10.8s\n",
      "10:\tlearn: 24.4470391\ttotal: 342ms\tremaining: 5.87s\n",
      "20:\tlearn: 20.5190987\ttotal: 631ms\tremaining: 5.38s\n",
      "30:\tlearn: 18.5131278\ttotal: 916ms\tremaining: 4.99s\n",
      "40:\tlearn: 17.5761237\ttotal: 1.2s\tremaining: 4.64s\n",
      "50:\tlearn: 16.7875697\ttotal: 1.48s\tremaining: 4.31s\n",
      "60:\tlearn: 16.1218299\ttotal: 1.75s\tremaining: 3.99s\n",
      "70:\tlearn: 15.6857449\ttotal: 2.04s\tremaining: 3.7s\n",
      "80:\tlearn: 15.3354215\ttotal: 2.31s\tremaining: 3.39s\n",
      "90:\tlearn: 14.9356901\ttotal: 2.59s\tremaining: 3.11s\n",
      "100:\tlearn: 14.5912719\ttotal: 2.88s\tremaining: 2.82s\n",
      "110:\tlearn: 14.3121803\ttotal: 3.16s\tremaining: 2.53s\n",
      "120:\tlearn: 14.0293282\ttotal: 3.44s\tremaining: 2.25s\n",
      "130:\tlearn: 13.8894466\ttotal: 3.71s\tremaining: 1.96s\n",
      "140:\tlearn: 13.5834870\ttotal: 3.99s\tremaining: 1.67s\n",
      "150:\tlearn: 13.2908191\ttotal: 4.27s\tremaining: 1.39s\n",
      "160:\tlearn: 13.0654714\ttotal: 4.56s\tremaining: 1.1s\n",
      "170:\tlearn: 12.8525002\ttotal: 4.84s\tremaining: 820ms\n",
      "180:\tlearn: 12.6512657\ttotal: 5.12s\tremaining: 538ms\n",
      "190:\tlearn: 12.4461499\ttotal: 5.39s\tremaining: 254ms\n",
      "199:\tlearn: 12.3020189\ttotal: 5.67s\tremaining: 0us\n",
      "CPU times: user 5.12 s, sys: 916 ms, total: 6.03 s\n",
      "Wall time: 8.75 s\n"
     ]
    },
    {
     "data": {
      "text/plain": [
       "<catboost.core.CatBoostRegressor at 0x7ff10ffe3810>"
      ]
     },
     "execution_count": 75,
     "metadata": {},
     "output_type": "execute_result"
    }
   ],
   "source": [
    "%%time\n",
    "CatBoost_model.fit(train_valid_features, train_valid_target, verbose=10)"
   ]
  },
  {
   "cell_type": "markdown",
   "metadata": {},
   "source": [
    "#### 5. Обучим модель градиентного бустинга  LGBMRegressor"
   ]
  },
  {
   "cell_type": "code",
   "execution_count": 76,
   "metadata": {},
   "outputs": [],
   "source": [
    "from lightgbm import LGBMRegressor"
   ]
  },
  {
   "cell_type": "code",
   "execution_count": 77,
   "metadata": {},
   "outputs": [
    {
     "data": {
      "text/plain": [
       "LGBMRegressor(boosting_type='gbdt', class_weight=None, colsample_bytree=1.0,\n",
       "              importance_type='split', learning_rate=0.1, max_depth=-1,\n",
       "              min_child_samples=20, min_child_weight=0.001, min_split_gain=0.0,\n",
       "              n_estimators=100, n_jobs=-1, num_leaves=31, objective=None,\n",
       "              random_state=12345, reg_alpha=0.0, reg_lambda=0.0, silent=True,\n",
       "              subsample=1.0, subsample_for_bin=200000, subsample_freq=0)"
      ]
     },
     "execution_count": 77,
     "metadata": {},
     "output_type": "execute_result"
    }
   ],
   "source": [
    "LGBM_model = LGBMRegressor(random_state=12345)\n",
    "LGBM_model"
   ]
  },
  {
   "cell_type": "code",
   "execution_count": 80,
   "metadata": {},
   "outputs": [],
   "source": [
    "param_grid = {'max_depth': [2, 4, 6],\n",
    "              'learning_rate': [0.1, 0.3, 0.5],\n",
    "              'n_estimators': [50, 100, 200]}"
   ]
  },
  {
   "cell_type": "code",
   "execution_count": 81,
   "metadata": {},
   "outputs": [
    {
     "name": "stdout",
     "output_type": "stream",
     "text": [
      "max_depth = 2 , learning_rate = 0.1, n_estimators = 50, RMSE на валидационной выборке: 27.74\n",
      "max_depth = 2 , learning_rate = 0.1, n_estimators = 100, RMSE на валидационной выборке: 25.14\n",
      "max_depth = 2 , learning_rate = 0.1, n_estimators = 200, RMSE на валидационной выборке: 23.88\n",
      "max_depth = 2 , learning_rate = 0.3, n_estimators = 50, RMSE на валидационной выборке: 23.73\n",
      "max_depth = 2 , learning_rate = 0.3, n_estimators = 100, RMSE на валидационной выборке: 22.92\n",
      "max_depth = 2 , learning_rate = 0.3, n_estimators = 200, RMSE на валидационной выборке: 22.55\n",
      "max_depth = 2 , learning_rate = 0.5, n_estimators = 50, RMSE на валидационной выборке: 23.86\n",
      "max_depth = 2 , learning_rate = 0.5, n_estimators = 100, RMSE на валидационной выборке: 23.3\n",
      "max_depth = 2 , learning_rate = 0.5, n_estimators = 200, RMSE на валидационной выборке: 23.44\n",
      "max_depth = 4 , learning_rate = 0.1, n_estimators = 50, RMSE на валидационной выборке: 22.86\n",
      "max_depth = 4 , learning_rate = 0.1, n_estimators = 100, RMSE на валидационной выборке: 21.76\n",
      "max_depth = 4 , learning_rate = 0.1, n_estimators = 200, RMSE на валидационной выборке: 21.66\n",
      "max_depth = 4 , learning_rate = 0.3, n_estimators = 50, RMSE на валидационной выборке: 22.82\n",
      "max_depth = 4 , learning_rate = 0.3, n_estimators = 100, RMSE на валидационной выборке: 22.62\n",
      "max_depth = 4 , learning_rate = 0.3, n_estimators = 200, RMSE на валидационной выборке: 22.89\n",
      "max_depth = 4 , learning_rate = 0.5, n_estimators = 50, RMSE на валидационной выборке: 23.64\n",
      "max_depth = 4 , learning_rate = 0.5, n_estimators = 100, RMSE на валидационной выборке: 23.63\n",
      "max_depth = 4 , learning_rate = 0.5, n_estimators = 200, RMSE на валидационной выборке: 23.92\n",
      "max_depth = 6 , learning_rate = 0.1, n_estimators = 50, RMSE на валидационной выборке: 21.83\n",
      "max_depth = 6 , learning_rate = 0.1, n_estimators = 100, RMSE на валидационной выборке: 21.4\n",
      "max_depth = 6 , learning_rate = 0.1, n_estimators = 200, RMSE на валидационной выборке: 21.34\n",
      "max_depth = 6 , learning_rate = 0.3, n_estimators = 50, RMSE на валидационной выборке: 22.3\n",
      "max_depth = 6 , learning_rate = 0.3, n_estimators = 100, RMSE на валидационной выборке: 22.39\n",
      "max_depth = 6 , learning_rate = 0.3, n_estimators = 200, RMSE на валидационной выборке: 22.5\n",
      "max_depth = 6 , learning_rate = 0.5, n_estimators = 50, RMSE на валидационной выборке: 23.42\n",
      "max_depth = 6 , learning_rate = 0.5, n_estimators = 100, RMSE на валидационной выборке: 23.83\n",
      "max_depth = 6 , learning_rate = 0.5, n_estimators = 200, RMSE на валидационной выборке: 23.83\n",
      "CPU times: user 26min 30s, sys: 7.63 s, total: 26min 37s\n",
      "Wall time: 26min 54s\n"
     ]
    }
   ],
   "source": [
    "%%time\n",
    "for i in param_grid['max_depth']:\n",
    "    for j in param_grid['learning_rate']:\n",
    "        for g in param_grid['n_estimators']:\n",
    "            LGBM_model = LGBMRegressor(random_state=12345, max_depth=i, learning_rate=j, n_estimators=g)\n",
    "            LGBM_model.fit(train_features, train_target)\n",
    "            pred_valid = LGBM_model.predict(valid_features)\n",
    "            print('max_depth = {} , learning_rate = {}, n_estimators = {}, RMSE на валидационной выборке: {}'\n",
    "                  .format(i, j, g, RMSE(valid_target, pred_valid).round(2)))"
   ]
  },
  {
   "cell_type": "code",
   "execution_count": 82,
   "metadata": {},
   "outputs": [],
   "source": [
    "LGBM_model = LGBMRegressor(random_state=12345, max_depth = 6 , learning_rate = 0.1, n_estimators = 100)"
   ]
  },
  {
   "cell_type": "code",
   "execution_count": 83,
   "metadata": {},
   "outputs": [
    {
     "name": "stdout",
     "output_type": "stream",
     "text": [
      "CPU times: user 960 ms, sys: 4 ms, total: 964 ms\n",
      "Wall time: 973 ms\n"
     ]
    },
    {
     "data": {
      "text/plain": [
       "LGBMRegressor(boosting_type='gbdt', class_weight=None, colsample_bytree=1.0,\n",
       "              importance_type='split', learning_rate=0.1, max_depth=6,\n",
       "              min_child_samples=20, min_child_weight=0.001, min_split_gain=0.0,\n",
       "              n_estimators=100, n_jobs=-1, num_leaves=31, objective=None,\n",
       "              random_state=12345, reg_alpha=0.0, reg_lambda=0.0, silent=True,\n",
       "              subsample=1.0, subsample_for_bin=200000, subsample_freq=0)"
      ]
     },
     "execution_count": 83,
     "metadata": {},
     "output_type": "execute_result"
    }
   ],
   "source": [
    "%%time\n",
    "LGBM_model.fit(train_valid_features, train_valid_target)"
   ]
  },
  {
   "cell_type": "markdown",
   "metadata": {},
   "source": [
    "### Выводы по главе 3:"
   ]
  },
  {
   "cell_type": "markdown",
   "metadata": {},
   "source": [
    "> В процессе обучения моделей обнаружили:\n",
    "- на валидационной выборке модели градиентного бустинга имеют примерно равные и лучшие показатели по сравнению с линейной регрессией и стахастическим градиентным бустингом. В тоже время обучения этих моделей требует больших временных затрат."
   ]
  },
  {
   "cell_type": "markdown",
   "metadata": {},
   "source": [
    "## Глава 4. Тестирование моделей"
   ]
  },
  {
   "cell_type": "markdown",
   "metadata": {},
   "source": [
    "Сделаем предсказания моделей на тестовой выборке и оценим их качество:"
   ]
  },
  {
   "cell_type": "markdown",
   "metadata": {},
   "source": [
    "1 - LinearRegression"
   ]
  },
  {
   "cell_type": "code",
   "execution_count": 84,
   "metadata": {},
   "outputs": [
    {
     "name": "stdout",
     "output_type": "stream",
     "text": [
      "CPU times: user 4 ms, sys: 0 ns, total: 4 ms\n",
      "Wall time: 536 µs\n"
     ]
    }
   ],
   "source": [
    "%%time\n",
    "pred_test = LinearReg_model.predict(test_features)"
   ]
  },
  {
   "cell_type": "code",
   "execution_count": 85,
   "metadata": {},
   "outputs": [
    {
     "name": "stdout",
     "output_type": "stream",
     "text": [
      "RMSE на тестовой выборке:  47.82\n"
     ]
    }
   ],
   "source": [
    "print('RMSE на тестовой выборке: ', RMSE(test_target, pred_test).round(2))"
   ]
  },
  {
   "cell_type": "markdown",
   "metadata": {},
   "source": [
    "2 - SGDRegressor"
   ]
  },
  {
   "cell_type": "code",
   "execution_count": 86,
   "metadata": {},
   "outputs": [
    {
     "name": "stdout",
     "output_type": "stream",
     "text": [
      "CPU times: user 0 ns, sys: 8 ms, total: 8 ms\n",
      "Wall time: 1.2 ms\n"
     ]
    }
   ],
   "source": [
    "%%time\n",
    "pred_test = SGD_LinearReg_model.predict(test_features)"
   ]
  },
  {
   "cell_type": "code",
   "execution_count": 87,
   "metadata": {},
   "outputs": [
    {
     "name": "stdout",
     "output_type": "stream",
     "text": [
      "RMSE на тестовой выборке:  48.26\n"
     ]
    }
   ],
   "source": [
    "print('RMSE на тестовой выборке: ', RMSE(test_target, pred_test).round(2))"
   ]
  },
  {
   "cell_type": "markdown",
   "metadata": {},
   "source": [
    "3 - XGBRegressor"
   ]
  },
  {
   "cell_type": "code",
   "execution_count": 88,
   "metadata": {},
   "outputs": [
    {
     "name": "stdout",
     "output_type": "stream",
     "text": [
      "CPU times: user 64 ms, sys: 0 ns, total: 64 ms\n",
      "Wall time: 104 ms\n"
     ]
    }
   ],
   "source": [
    "%%time\n",
    "pred_test = XGBRegressor_model.predict(test_features)"
   ]
  },
  {
   "cell_type": "code",
   "execution_count": 89,
   "metadata": {},
   "outputs": [
    {
     "name": "stdout",
     "output_type": "stream",
     "text": [
      "RMSE на тестовой выборке:  40.79\n"
     ]
    }
   ],
   "source": [
    "print('RMSE на тестовой выборке: ', RMSE(test_target, pred_test).round(2))"
   ]
  },
  {
   "cell_type": "markdown",
   "metadata": {},
   "source": [
    "4 - CatBoostRegressor"
   ]
  },
  {
   "cell_type": "code",
   "execution_count": 90,
   "metadata": {},
   "outputs": [
    {
     "name": "stdout",
     "output_type": "stream",
     "text": [
      "CPU times: user 4 ms, sys: 4 ms, total: 8 ms\n",
      "Wall time: 17.7 ms\n"
     ]
    }
   ],
   "source": [
    "%%time\n",
    "pred_test = CatBoost_model.predict(test_features)"
   ]
  },
  {
   "cell_type": "code",
   "execution_count": 91,
   "metadata": {},
   "outputs": [
    {
     "name": "stdout",
     "output_type": "stream",
     "text": [
      "RMSE на тестовой выборке:  42.62\n"
     ]
    }
   ],
   "source": [
    "print('RMSE на тестовой выборке: ', RMSE(test_target, pred_test).round(2))"
   ]
  },
  {
   "cell_type": "markdown",
   "metadata": {},
   "source": [
    "5 - LGBMRegressor"
   ]
  },
  {
   "cell_type": "code",
   "execution_count": 92,
   "metadata": {},
   "outputs": [
    {
     "name": "stdout",
     "output_type": "stream",
     "text": [
      "CPU times: user 52 ms, sys: 4 ms, total: 56 ms\n",
      "Wall time: 16.7 ms\n"
     ]
    }
   ],
   "source": [
    "%%time\n",
    "pred_test = LGBM_model.predict(test_features)"
   ]
  },
  {
   "cell_type": "code",
   "execution_count": 93,
   "metadata": {},
   "outputs": [
    {
     "name": "stdout",
     "output_type": "stream",
     "text": [
      "RMSE на тестовой выборке:  40.99\n"
     ]
    }
   ],
   "source": [
    "print('RMSE на тестовой выборке: ', RMSE(test_target, pred_test).round(2))"
   ]
  },
  {
   "cell_type": "markdown",
   "metadata": {},
   "source": [
    "Сведем все данные в таблицу(скорость обучения и качество метрики):"
   ]
  },
  {
   "cell_type": "code",
   "execution_count": 104,
   "metadata": {},
   "outputs": [],
   "source": [
    "data = {'Модель':['LinearRegression', 'SGDRegressor', 'XGBRegressor', 'CatBoostRegressor', 'LGBMRegressor'], \n",
    "        'Скорость обучения':['71.9 ms', '10.6 s', '8min 26s', '2min 1s', '26min 54s'],\n",
    "        'Метрика RMSE': [47.82, 48.26, 40.79, 42.62, 40.99]}"
   ]
  },
  {
   "cell_type": "code",
   "execution_count": 105,
   "metadata": {},
   "outputs": [
    {
     "data": {
      "text/html": [
       "<div>\n",
       "<style scoped>\n",
       "    .dataframe tbody tr th:only-of-type {\n",
       "        vertical-align: middle;\n",
       "    }\n",
       "\n",
       "    .dataframe tbody tr th {\n",
       "        vertical-align: top;\n",
       "    }\n",
       "\n",
       "    .dataframe thead th {\n",
       "        text-align: right;\n",
       "    }\n",
       "</style>\n",
       "<table border=\"1\" class=\"dataframe\">\n",
       "  <thead>\n",
       "    <tr style=\"text-align: right;\">\n",
       "      <th></th>\n",
       "      <th>Модель</th>\n",
       "      <th>Скорость обучения</th>\n",
       "      <th>Метрика RMSE</th>\n",
       "    </tr>\n",
       "  </thead>\n",
       "  <tbody>\n",
       "    <tr>\n",
       "      <td>0</td>\n",
       "      <td>LinearRegression</td>\n",
       "      <td>71.9 ms</td>\n",
       "      <td>47.82</td>\n",
       "    </tr>\n",
       "    <tr>\n",
       "      <td>1</td>\n",
       "      <td>SGDRegressor</td>\n",
       "      <td>10.6 s</td>\n",
       "      <td>48.26</td>\n",
       "    </tr>\n",
       "    <tr>\n",
       "      <td>2</td>\n",
       "      <td>XGBRegressor</td>\n",
       "      <td>8min 26s</td>\n",
       "      <td>40.79</td>\n",
       "    </tr>\n",
       "    <tr>\n",
       "      <td>3</td>\n",
       "      <td>CatBoostRegressor</td>\n",
       "      <td>2min 1s</td>\n",
       "      <td>42.62</td>\n",
       "    </tr>\n",
       "    <tr>\n",
       "      <td>4</td>\n",
       "      <td>LGBMRegressor</td>\n",
       "      <td>26min 54s</td>\n",
       "      <td>40.99</td>\n",
       "    </tr>\n",
       "  </tbody>\n",
       "</table>\n",
       "</div>"
      ],
      "text/plain": [
       "              Модель Скорость обучения  Метрика RMSE\n",
       "0   LinearRegression           71.9 ms         47.82\n",
       "1       SGDRegressor            10.6 s         48.26\n",
       "2       XGBRegressor          8min 26s         40.79\n",
       "3  CatBoostRegressor           2min 1s         42.62\n",
       "4      LGBMRegressor         26min 54s         40.99"
      ]
     },
     "execution_count": 105,
     "metadata": {},
     "output_type": "execute_result"
    }
   ],
   "source": [
    "df1 = pd.DataFrame(data)\n",
    "df1"
   ]
  },
  {
   "cell_type": "markdown",
   "metadata": {},
   "source": [
    "### Выводы по главе 4:"
   ]
  },
  {
   "cell_type": "markdown",
   "metadata": {},
   "source": [
    "> Почти все модели показали результат RMSE ниже 48 на тестовой выборке.  \n",
    "Модели градиентного бустинга XGBRegressor, CatBoostRegressor, LGBMRegressor показали значительное уменьшение метрики качества.  \n",
    "Наиболее оптимальными по качеству метрики RMSE является - **XGBRegressor**.  \n",
    "Наиболее оптимальными по скорости обучения является - **LinearRegression**.  \n",
    "Наиболее оптимальными в соотношении скорость обучения - качество метрики RMSE - **XGBRegressor**."
   ]
  },
  {
   "cell_type": "markdown",
   "metadata": {},
   "source": [
    "### Общий вывод:"
   ]
  },
  {
   "cell_type": "markdown",
   "metadata": {},
   "source": [
    "По результатам исследований моделей для поставленной задачи наиболее оптимальными являются модели градиентного бустинга:\n",
    "- XGBRegressor\n",
    "- CatBoostRegressor\n",
    "- LGBMRegressor\t \n",
    "\n",
    "Метрики качества моделей RMSE имеют примерно равные показатели.   \n",
    "По скорости обучения из этих трех моделей лучшая - CatBoostRegressor.  \n",
    "По качеству метрики RMSE - XGBRegressor  \n",
    "Наиболее оптимальной для поставленной задачи \"Прогнозирования количество заказов такси на следующий час\" является **XGBRegressor**."
   ]
  }
 ],
 "metadata": {
  "kernelspec": {
   "display_name": "Python 3",
   "language": "python",
   "name": "python3"
  },
  "language_info": {
   "codemirror_mode": {
    "name": "ipython",
    "version": 3
   },
   "file_extension": ".py",
   "mimetype": "text/x-python",
   "name": "python",
   "nbconvert_exporter": "python",
   "pygments_lexer": "ipython3",
   "version": "3.7.4"
  }
 },
 "nbformat": 4,
 "nbformat_minor": 2
}
